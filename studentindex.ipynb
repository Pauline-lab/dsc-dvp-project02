{
 "cells": [
  {
   "cell_type": "markdown",
   "id": "8f55016a",
   "metadata": {},
   "source": [
    "# Project 2: More Data, More Visualizations"
   ]
  },
  {
   "cell_type": "markdown",
   "id": "b75cfd5d",
   "metadata": {},
   "source": [
    "##### **BUSINESS UNDERSTANDING**\n",
    "\n",
    "Karamoja is a region in Uganda facing Food insecurity.\n",
    "\n",
    "Reasons for food insecurity :\n",
    "\n",
    "a. Low production due to intense droughts.\n",
    "\n",
    "b. Low production due to Pest and disease outbreaks.\n",
    "\n",
    "c. Lack of proper visisbility in the state of the region by NGO's and reliance on inadequate information to prioritize help.\n",
    "\n",
    "**Business Need**: \n",
    "Visibility of the overall state of the Karamoja Region.\n",
    "\n",
    "*Solution*: \n",
    "1. Develop a food security monitoring tool for decision making.\n",
    "\n",
    "2. Measure yield for main staple food i.e sorghum and maize."
   ]
  },
  {
   "cell_type": "markdown",
   "metadata": {},
   "source": [
    "#### **Data Understanding** \n",
    "\n",
    "Main Crops of focus: Sorghum and Maize.\n",
    "\n",
    "Research Objectives and Research Questions:\n",
    "1. To find out the top 2 district with the highest sorghum and maize yield in Karamoja district.\n",
    "\n",
    "    a. *which district has the highest sorghum and maize yields in Karamoja?*\n",
    "\n",
    "2. To find the bottom 6 subcounties have the lowest maize yields relative to their population size.\n",
    "\n",
    "    b. *Which are the 6 subcounties with the lowest maize yields relative to their population size?*\n",
    "\n",
    "3. To find out the top 2 district with the highest productivity of maize and sorghum.\n",
    "\n",
    "    c. *Which top 2 district has the highest total productivity of maize and sorghum?*.\n",
    "\n",
    "4. To find out the district with the highest crop area allocation for sorghum and maize in Karamoja\n",
    "\n",
    "    d. *Which district has the highest crop area allocation of sorghum and Maize in Karamoja?*"
   ]
  },
  {
   "cell_type": "markdown",
   "id": "b016893d",
   "metadata": {},
   "source": [
    "Tableau Dashboard link: https://public.tableau.com/app/profile/pauline.armani/viz/Project2Dashboard_17390316658160/KaramojaFoodProductivity?publish=yes"
   ]
  },
  {
   "cell_type": "markdown",
   "id": "6e1b5ec9",
   "metadata": {
    "vscode": {
     "languageId": "plaintext"
    }
   },
   "source": [
    "#### Research Objective 1\n",
    "\n",
    "1. To find out the top 2 district with the highest sorghum and maize average yield in Karamoja district.\n",
    "\n",
    "*RQ1. which district has the highest sorghum and maize average yields in Karamoja?*\n",
    "\n",
    ">  Results from the analysis revealed that, Amudat district had the highest average maize yield , followed by Nakapiripirit and Kotido. On the other hand, the district with the highest sorghum yield per ha was Abim followed by Nakapiripirit.\n",
    "\n",
    "\n"
   ]
  },
  {
   "cell_type": "markdown",
   "id": "c6f1e1a3",
   "metadata": {},
   "source": [
    "#### Research Objective 2\n",
    "\n",
    "RO2: To find the bottom 6 subcounties have the lowest maize yields relative to their population size.\n",
    "\n",
    "*RQ2. Which are the 6 subcounties with the lowest maize yields relative to their population size?* \n",
    "\n",
    "A treemap was utilized to identify the top 6 subcounties with the lowest maize yield in relation to their population size. The map revealed that Katikekile subcounty Name, Nadunget,Northern Division, Rupa, Southern Division and Tapac had the lowest maize yield with each division having an average of 355 maize yield per Ha, and a population of 127,811. This reveals that the 6 subcounties have the highest shortage of maize and should be considered first when donations are made by the NGO's.\n"
   ]
  },
  {
   "cell_type": "markdown",
   "id": "b419bda3",
   "metadata": {},
   "source": [
    "#### Research Objective 3\n",
    "\n",
    "RO3. To find out the top 2 district with the highest productivity of maize and sorghum.\n",
    "\n",
    "*RQ3. Which top 2 district has the highest total productivity of maize and sorghum?*\n",
    "\n",
    "The top 2 districts with the highest productivity of sorghum is Kotido with a total of 16,631,904kg, followed with Nakapiripirit with a total of 6,848,491kg. \n",
    "\n",
    "On the other hand, Nakapiripirit and Kaabong were the top two districts with the highest maize production with each having 8,122,197kg and 6,987,723kg of maize production respectively."
   ]
  },
  {
   "cell_type": "markdown",
   "id": "6f1e4683",
   "metadata": {},
   "source": [
    "#### Research Objective 4\n",
    "RO4. To find out the district with the highest crop area allocation for sorghum and maize in Karamoja\n",
    "\n",
    "RQ4. *Which district has the highest crop area allocation of sorghum and Maize in Karamoja?*\n",
    "\n",
    "Kotido district had the highest sorghum allocation area (50,247 ha) and the lowest maize allocation area (1751 ha) out of the total crop area of 53,033 in the district. \n",
    "\n"
   ]
  },
  {
   "cell_type": "markdown",
   "id": "486753c8",
   "metadata": {},
   "source": [
    "#### Recommendations\n",
    "\n"
   ]
  }
 ],
 "metadata": {
  "kernelspec": {
   "display_name": "Python (learn-env)",
   "language": "python",
   "name": "learn-env"
  },
  "language_info": {
   "codemirror_mode": {
    "name": "ipython",
    "version": 3
   },
   "file_extension": ".py",
   "mimetype": "text/x-python",
   "name": "python",
   "nbconvert_exporter": "python",
   "pygments_lexer": "ipython3",
   "version": "3.9.15"
  }
 },
 "nbformat": 4,
 "nbformat_minor": 5
}
