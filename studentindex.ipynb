{
 "cells": [
  {
   "cell_type": "markdown",
   "id": "8f55016a",
   "metadata": {},
   "source": [
    "# Project 2: Karamoja Region Productivity Report"
   ]
  },
  {
   "cell_type": "markdown",
   "id": "b75cfd5d",
   "metadata": {},
   "source": [
    "##### **BUSINESS UNDERSTANDING**\n",
    "\n",
    "Karamoja is a region in Uganda facing Food insecurity.\n",
    "\n",
    "Reasons for food insecurity :\n",
    "\n",
    "a. Low production due to intense droughts.\n",
    "\n",
    "b. Low production due to Pest and disease outbreaks.\n",
    "\n",
    "c. Lack of proper visisbility in the state of the region by NGO's and reliance on inadequate information to prioritize help.\n",
    "\n",
    "**Business Need**: \n",
    "Visibility of the overall state of the Karamoja Region.\n",
    "\n",
    "*Solution*: \n",
    "1. Develop a food security monitoring tool for decision making.\n",
    "\n",
    "2. Measure yield for main staple food i.e sorghum and maize."
   ]
  },
  {
   "cell_type": "markdown",
   "metadata": {},
   "source": [
    "#### **Data Understanding** \n",
    "\n",
    "Main Crops of focus: Sorghum and Maize.\n",
    "\n",
    "Research Objectives and Research Questions:\n",
    "1. To find out the top 2 district with the lowest sorghum and maize yield in Karamoja district.\n",
    "\n",
    "    a. *which district has the lowest sorghum and maize yields in Karamoja?*\n",
    "\n",
    "2. To find the bottom 6 subcounties have the lowest maize yields relative to their population size.\n",
    "\n",
    "    b. *Which are the 6 subcounties with the lowest maize yields relative to their population size?*\n",
    "\n",
    "3. To find out the top 2 district with the lowest productivity of maize and sorghum.\n",
    "\n",
    "    c. *Which top 2 district has the lowest total productivity of maize and sorghum?*.\n",
    "\n",
    "4. To find out the district with the highest crop area allocation for sorghum and maize in Karamoja\n",
    "\n",
    "    d. *Which district has the highest crop area allocation of sorghum and Maize in Karamoja?*"
   ]
  },
  {
   "cell_type": "markdown",
   "id": "b016893d",
   "metadata": {},
   "source": [
    "Tableau Dashboard link: https://public.tableau.com/app/profile/pauline.armani/viz/Project2Dashboard_17390316658160/KaramojaFoodProductivity?publish=yes\n",
    "\n",
    "Powerpoint Presentation Link: https://docs.google.com/presentation/d/1GI46fcSOQqiWPYIRQCKA1QsSHX4jU0xEn9xAkwTCpP4/edit#slide=id.p1"
   ]
  },
  {
   "cell_type": "code",
   "execution_count": null,
   "id": "568874f6",
   "metadata": {},
   "outputs": [
    {
     "data": {
      "text/plain": [
       "Index(['OBJECTID_x', 'NAME', 'POP_x', 'Area_x', 'S_Yield_Ha_x', 'M_Yield_Ha_x',\n",
       "       'Crop_Area_Ha_x', 'S_Area_Ha_x', 'M_Area_Ha_x', 'S_Prod_Tot_x',\n",
       "       'M_Prod_Tot_x', 'OBJECTID_y', 'SUBCOUNTY_NAME', 'DISTRICT_NAME',\n",
       "       'POP_y', 'Area_y', 'Karamoja', 'S_Yield_Ha_y', 'M_Yield_Ha_y',\n",
       "       'Crop_Area_Ha_y', 'S_Area_Ha_y', 'M_Area_Ha_y', 'S_Prod_Tot_y',\n",
       "       'M_Prod_Tot_y'],\n",
       "      dtype='object')"
      ]
     },
     "execution_count": 16,
     "metadata": {},
     "output_type": "execute_result"
    }
   ],
   "source": [
    "#import pandas and numpy packages\n",
    "import pandas as pd\n",
    "import numpy as np\n",
    "\n",
    "#Data Ingestion\n",
    "district_df = pd.read_csv('Uganda_Karamoja_District_Crop_Yield_Population.csv')\n",
    "subcounty_df = pd.read_csv('Uganda_Karamoja_Subcounty_Crop_Yield_Population.csv')\n",
    "\n",
    "# Perform an inner join on the \"District Name\" column\n",
    "df = district_df.merge(subcounty_df, left_on=\"NAME\", right_on=\"DISTRICT_NAME\", how=\"inner\")\n",
    "\n",
    "df.head()\n",
    "df.columns\n"
   ]
  },
  {
   "cell_type": "markdown",
   "id": "6e1b5ec9",
   "metadata": {
    "vscode": {
     "languageId": "plaintext"
    }
   },
   "source": [
    "#### Research Objective 1\n",
    "\n",
    "1. To find out the top 2 district with the lowest sorghum and maize average yield in Karamoja district.\n",
    "\n",
    "*RQ1. which district has the lowest sorghum and maize average yields in Karamoja?*\n",
    "\n",
    ">  Results from the analysis revealed that,Moroto district had the lowest average maize yield followed by Napak . On the other hand, the district with the lowest sorghum yield per ha was moroto followed by Napak. see Figure 1 in the dashboard.\n",
    "\n",
    "\n"
   ]
  },
  {
   "cell_type": "code",
   "execution_count": null,
   "id": "3a8eda4d",
   "metadata": {},
   "outputs": [
    {
     "name": "stdout",
     "output_type": "stream",
     "text": [
      "Top 2 districts with the highest Sorghum yield:\n",
      "      NAME  S_Yield_Ha\n",
      "4  MOROTO         128\n",
      "6   NAPAK         137\n",
      "\n",
      "Top 2 districts with the highest Maize yield:\n",
      "      NAME  M_Yield_Ha\n",
      "4  MOROTO         355\n",
      "6   NAPAK         854\n"
     ]
    }
   ],
   "source": [
    "# computes the bottom 2 districts for Sorghum yield\n",
    "top_sorghum_districts = district_df.nsmallest(2, 'S_Yield_Ha')[['NAME', 'S_Yield_Ha']]\n",
    "print(\"Top 2 districts with the highest Sorghum yield:\\n\", top_sorghum_districts)\n",
    "\n",
    "# computes the bottom 2 districts for Maize yield\n",
    "top_maize_districts = district_df.nsmallest(2, 'M_Yield_Ha')[['NAME', 'M_Yield_Ha']]\n",
    "print(\"\\nTop 2 districts with the highest Maize yield:\\n\", top_maize_districts)\n",
    "\n",
    "\n"
   ]
  },
  {
   "cell_type": "markdown",
   "id": "c6f1e1a3",
   "metadata": {},
   "source": [
    "#### Research Objective 2\n",
    "\n",
    "RO2: To find the bottom 6 subcounties have the lowest maize yields relative to their population size.\n",
    "\n",
    "*RQ2. Which are the 6 subcounties with the lowest maize yields relative to their population size?* \n",
    "\n",
    "A treemap was utilized to identify the top 6 subcounties with the lowest maize yield in relation to their population size. The map revealed that Katikekile subcounty Name, Nadunget,Northern Division, Rupa, Southern Division and Tapac had the lowest maize yield with each division having an average of 355 maize yield per Ha, and a population of 127,811. This reveals that the 6 subcounties have the highest shortage of maize and should be considered first when donations are made by the NGO's.\n"
   ]
  },
  {
   "cell_type": "markdown",
   "id": "b419bda3",
   "metadata": {},
   "source": [
    "#### Research Objective 3\n",
    "\n",
    "RO3. To find out the top 2 district with the lowest productivity of maize and sorghum.\n",
    "\n",
    "*RQ3. Which top 2 district has the lowest total productivity of maize and sorghum?*\n",
    "\n",
    "The top 2 districts with the lowest productivity of sorghum  and maize is Moroto (M prod tot = 422,468, S prod tot = 606,944) and Abim (S prod tot = 1,471,506, M prod tot = 1,922,567)."
   ]
  },
  {
   "cell_type": "code",
   "execution_count": 39,
   "id": "7196abcc",
   "metadata": {},
   "outputs": [
    {
     "name": "stdout",
     "output_type": "stream",
     "text": [
      "Top 2 districts with the lowest total productivity of Maize and Sorghum:\n",
      "   DISTRICT_NAME    S_Prod_Tot    M_Prod_Tot    Total_Prod\n",
      "4        MOROTO  6.075967e+05  4.221161e+05  1.029713e+06\n",
      "0          ABIM  1.472671e+06  1.922133e+06  3.394804e+06\n"
     ]
    }
   ],
   "source": [
    "# Group by District and sum up relevant columns for total productivity\n",
    "district_productivity = subcounty_df.groupby(\"DISTRICT_NAME\").agg(\n",
    "    S_Prod_Tot=(\"S_Prod_Tot\", \"sum\"),\n",
    "    M_Prod_Tot=(\"M_Prod_Tot\", \"sum\")\n",
    ").reset_index()\n",
    "\n",
    "# Compute the total productivity per district\n",
    "district_productivity[\"Total_Prod\"] = district_productivity[\"S_Prod_Tot\"] + district_productivity[\"M_Prod_Tot\"]\n",
    "\n",
    "# Find the top 2 districts with the lowest total productivity of sorghum and Maize\n",
    "top_2_districts = district_productivity.nsmallest(2, \"Total_Prod\")[[\"DISTRICT_NAME\", \"S_Prod_Tot\", \"M_Prod_Tot\", \"Total_Prod\"]]\n",
    "\n",
    "# Print the results\n",
    "print(\"Top 2 districts with the lowest total productivity of Maize and Sorghum:\\n\", top_2_districts)"
   ]
  },
  {
   "cell_type": "markdown",
   "id": "6f1e4683",
   "metadata": {},
   "source": [
    "#### Research Objective 4\n",
    "RO4. To find out the district with the highest crop area allocation for sorghum and maize in Karamoja\n",
    "\n",
    "RQ4. *Which district has the highest crop area allocation of sorghum and Maize in Karamoja?*\n",
    "\n",
    "Kotido district had the highest sorghum allocation area (50,247 ha) out of the total crop area of 53,033 in the district. \n",
    "On the other hand, Kaabong has the highest maize area allocation with 7,394 hectare of maize in the district.\n",
    "\n",
    "\n"
   ]
  },
  {
   "cell_type": "markdown",
   "id": "486753c8",
   "metadata": {},
   "source": [
    "#### Recommendations\n",
    "\n",
    "1. Moroto has the most food shortage due to low crop area allocation and low productivity and low average crop yields for both sorghum and Maize. as a result, Moroto should be considered a priority for support by the NGO's.\n",
    "\n",
    "2. Future region planning should access the major cause of low productivity in Moroto such as pest outbreak and draught intensity to help increase the subcounty yield.\n",
    "\n",
    "3. Compared to the crop area available, sorghum has the largest crop allocation compared to maize. however, the average production and total yield of sorgum is less than that of maize. As such, the NGO's can advice farmers to revise the crop allocation to ensure high average yields in the area.\n",
    "\n"
   ]
  },
  {
   "cell_type": "markdown",
   "id": "5ab37529",
   "metadata": {},
   "source": []
  }
 ],
 "metadata": {
  "kernelspec": {
   "display_name": "base",
   "language": "python",
   "name": "python3"
  },
  "language_info": {
   "codemirror_mode": {
    "name": "ipython",
    "version": 3
   },
   "file_extension": ".py",
   "mimetype": "text/x-python",
   "name": "python",
   "nbconvert_exporter": "python",
   "pygments_lexer": "ipython3",
   "version": "3.11.7"
  }
 },
 "nbformat": 4,
 "nbformat_minor": 5
}
